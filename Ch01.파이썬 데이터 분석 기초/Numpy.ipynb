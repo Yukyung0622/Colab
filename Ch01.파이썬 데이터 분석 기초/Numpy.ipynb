{
  "nbformat": 4,
  "nbformat_minor": 0,
  "metadata": {
    "colab": {
      "name": "Numpy.ipynb",
      "provenance": [],
      "collapsed_sections": [],
      "authorship_tag": "ABX9TyNadjQ2y9KoQGnNwiyZtvpl",
      "include_colab_link": true
    },
    "kernelspec": {
      "name": "python3",
      "display_name": "Python 3"
    },
    "language_info": {
      "name": "python"
    }
  },
  "cells": [
    {
      "cell_type": "markdown",
      "metadata": {
        "id": "view-in-github",
        "colab_type": "text"
      },
      "source": [
        "<a href=\"https://colab.research.google.com/github/Yukyung0622/Colab/blob/master/Ch01.%ED%8C%8C%EC%9D%B4%EC%8D%AC%20%EB%8D%B0%EC%9D%B4%ED%84%B0%20%EB%B6%84%EC%84%9D%20%EA%B8%B0%EC%B4%88/Numpy.ipynb\" target=\"_parent\"><img src=\"https://colab.research.google.com/assets/colab-badge.svg\" alt=\"Open In Colab\"/></a>"
      ]
    },
    {
      "cell_type": "code",
      "execution_count": 2,
      "metadata": {
        "id": "S6_QICNFJeR3"
      },
      "outputs": [],
      "source": [
        "\"\"\"\n",
        "날짜 : 2022/04/28\n",
        "이름 : 김유경\n",
        "내용 : Numpy 연습문제\n",
        "\"\"\"\n",
        "\n",
        "import numpy as np"
      ]
    },
    {
      "cell_type": "code",
      "source": [
        "#01. 파이썬 리스트 연산\n",
        "list1 = [1,2]\n",
        "list2 = [3,4]\n",
        "print(list1 + list2)"
      ],
      "metadata": {
        "colab": {
          "base_uri": "https://localhost:8080/"
        },
        "id": "ZbjBH_akJwKJ",
        "outputId": "2f37f7a9-b6bf-4a0a-c59b-7331cf488d9e"
      },
      "execution_count": 4,
      "outputs": [
        {
          "output_type": "stream",
          "name": "stdout",
          "text": [
            "[1, 2, 3, 4]\n"
          ]
        }
      ]
    },
    {
      "cell_type": "code",
      "source": [
        "#02. 넘파이 리스트(벡터) 연산\n",
        "list1 = np.array([1,2])\n",
        "list2 = np.array([3,4])\n",
        "print(list1+list2)"
      ],
      "metadata": {
        "colab": {
          "base_uri": "https://localhost:8080/"
        },
        "id": "DCvNPsnHJ4FQ",
        "outputId": "aafbb799-9826-46ae-9916-48c326e988d0"
      },
      "execution_count": 5,
      "outputs": [
        {
          "output_type": "stream",
          "name": "stdout",
          "text": [
            "[4 6]\n"
          ]
        }
      ]
    },
    {
      "cell_type": "code",
      "source": [
        "#03. 0 벡터 생성 #2\n",
        "z = np.zeros(10)\n",
        "print(z)"
      ],
      "metadata": {
        "colab": {
          "base_uri": "https://localhost:8080/"
        },
        "id": "UX1OoLZfKDaY",
        "outputId": "87dcc905-3aa9-494b-9766-03d8b4126b35"
      },
      "execution_count": 7,
      "outputs": [
        {
          "output_type": "stream",
          "name": "stdout",
          "text": [
            "[0. 0. 0. 0. 0. 0. 0. 0. 0. 0.]\n"
          ]
        }
      ]
    },
    {
      "cell_type": "code",
      "source": [
        "#04. 0 벡터 생성 #2\n",
        "z = np.zeros(10)\n",
        "z[4] = 1\n",
        "print(z)"
      ],
      "metadata": {
        "colab": {
          "base_uri": "https://localhost:8080/"
        },
        "id": "zLJVotYpKU0A",
        "outputId": "db4f4ba0-2e26-466e-936a-86213e292fc4"
      },
      "execution_count": 9,
      "outputs": [
        {
          "output_type": "stream",
          "name": "stdout",
          "text": [
            "[0. 0. 0. 0. 1. 0. 0. 0. 0. 0.]\n"
          ]
        }
      ]
    },
    {
      "cell_type": "code",
      "source": [
        "#05. 10~49까지 벡터 생성\n",
        "z = np.arange(10,50)\n",
        "print(z)"
      ],
      "metadata": {
        "colab": {
          "base_uri": "https://localhost:8080/"
        },
        "id": "I2GOI-4aKg-Y",
        "outputId": "140937be-5ed6-4f8a-da9e-f61a4257fa13"
      },
      "execution_count": 10,
      "outputs": [
        {
          "output_type": "stream",
          "name": "stdout",
          "text": [
            "[10 11 12 13 14 15 16 17 18 19 20 21 22 23 24 25 26 27 28 29 30 31 32 33\n",
            " 34 35 36 37 38 39 40 41 42 43 44 45 46 47 48 49]\n"
          ]
        }
      ]
    },
    {
      "cell_type": "code",
      "source": [
        "#06. 0부터 50까지 벡터 생성\n",
        "z = np.arange(50)\n",
        "print(z)"
      ],
      "metadata": {
        "colab": {
          "base_uri": "https://localhost:8080/"
        },
        "id": "cklcjjXiKpow",
        "outputId": "8de4a8c9-8386-4ecf-c418-a445d0bfaa48"
      },
      "execution_count": 12,
      "outputs": [
        {
          "output_type": "stream",
          "name": "stdout",
          "text": [
            "[ 0  1  2  3  4  5  6  7  8  9 10 11 12 13 14 15 16 17 18 19 20 21 22 23\n",
            " 24 25 26 27 28 29 30 31 32 33 34 35 36 37 38 39 40 41 42 43 44 45 46 47\n",
            " 48 49]\n"
          ]
        }
      ]
    },
    {
      "cell_type": "code",
      "source": [
        "#07. index 1부터 index 10까지\n",
        "z = np.arange(50)\n",
        "z = z[1:10]\n",
        "print(z)"
      ],
      "metadata": {
        "colab": {
          "base_uri": "https://localhost:8080/"
        },
        "id": "kEJi4MOwKz55",
        "outputId": "2ebfbe70-e3fa-47d4-f821-7098119de5a6"
      },
      "execution_count": 14,
      "outputs": [
        {
          "output_type": "stream",
          "name": "stdout",
          "text": [
            "[1 2 3 4 5 6 7 8 9]\n"
          ]
        }
      ]
    },
    {
      "cell_type": "code",
      "source": [
        "#08. index 1부터 index 10까지 2칸 간격으로\n",
        "z = np.arange(50)\n",
        "z = z[1:10:2]\n",
        "print(z)"
      ],
      "metadata": {
        "colab": {
          "base_uri": "https://localhost:8080/"
        },
        "id": "xlavWZPCLBZP",
        "outputId": "45d02477-db5a-4a34-bcb2-3599f4c39b89"
      },
      "execution_count": 17,
      "outputs": [
        {
          "output_type": "stream",
          "name": "stdout",
          "text": [
            "[1 3 5 7 9]\n"
          ]
        }
      ]
    },
    {
      "cell_type": "code",
      "source": [
        "#09. 처음부터 끝까지 2칸 간격으로\n",
        "z = np.arange(50)\n",
        "z = z[::2]\n",
        "print(z)"
      ],
      "metadata": {
        "colab": {
          "base_uri": "https://localhost:8080/"
        },
        "id": "jlNYqPyULQNH",
        "outputId": "b5bad7c5-2e64-4f4e-e160-9b7e415069c9"
      },
      "execution_count": 19,
      "outputs": [
        {
          "output_type": "stream",
          "name": "stdout",
          "text": [
            "[ 0  2  4  6  8 10 12 14 16 18 20 22 24 26 28 30 32 34 36 38 40 42 44 46\n",
            " 48]\n"
          ]
        }
      ]
    },
    {
      "cell_type": "code",
      "source": [
        "#10. 10부터 끝까지\n",
        "z = np.arange(50)\n",
        "z = z[10::]\n",
        "print(z)"
      ],
      "metadata": {
        "colab": {
          "base_uri": "https://localhost:8080/"
        },
        "id": "VUpj_Q9JLaEf",
        "outputId": "4b0788d4-3ed0-4995-ba57-59af4d9c78d4"
      },
      "execution_count": 20,
      "outputs": [
        {
          "output_type": "stream",
          "name": "stdout",
          "text": [
            "[10 11 12 13 14 15 16 17 18 19 20 21 22 23 24 25 26 27 28 29 30 31 32 33\n",
            " 34 35 36 37 38 39 40 41 42 43 44 45 46 47 48 49]\n"
          ]
        }
      ]
    },
    {
      "cell_type": "code",
      "source": [
        "#11. 1부터 끝까지 2칸 간격으로\n",
        "z = np.arange(50)\n",
        "z = z[1::2]\n",
        "print(z)"
      ],
      "metadata": {
        "colab": {
          "base_uri": "https://localhost:8080/"
        },
        "id": "suJ_7QLULiiI",
        "outputId": "43e260ac-bae3-48a6-894a-8082a6e8d784"
      },
      "execution_count": 21,
      "outputs": [
        {
          "output_type": "stream",
          "name": "stdout",
          "text": [
            "[ 1  3  5  7  9 11 13 15 17 19 21 23 25 27 29 31 33 35 37 39 41 43 45 47\n",
            " 49]\n"
          ]
        }
      ]
    },
    {
      "cell_type": "code",
      "source": [
        "#12. 처음부터 끝까지 -1칸 간격으로 (== 역순으로)\n",
        "z = np.arange(50)\n",
        "z = z[::-1]\n",
        "print(z)"
      ],
      "metadata": {
        "colab": {
          "base_uri": "https://localhost:8080/"
        },
        "id": "lTY-7yCALqxH",
        "outputId": "6a1bef21-815b-4d37-d421-9f5a45bd0ea3"
      },
      "execution_count": 22,
      "outputs": [
        {
          "output_type": "stream",
          "name": "stdout",
          "text": [
            "[49 48 47 46 45 44 43 42 41 40 39 38 37 36 35 34 33 32 31 30 29 28 27 26\n",
            " 25 24 23 22 21 20 19 18 17 16 15 14 13 12 11 10  9  8  7  6  5  4  3  2\n",
            "  1  0]\n"
          ]
        }
      ]
    },
    {
      "cell_type": "code",
      "source": [
        "#13. 3x3벡터(행렬) 생성\n",
        "z = np.arange(9).reshape(3,3)\n",
        "print(z)"
      ],
      "metadata": {
        "colab": {
          "base_uri": "https://localhost:8080/"
        },
        "id": "XgtR7TBgMhHQ",
        "outputId": "00f09ef4-5466-4a01-c41f-fed2b0582470"
      },
      "execution_count": 24,
      "outputs": [
        {
          "output_type": "stream",
          "name": "stdout",
          "text": [
            "[[0 1 2]\n",
            " [3 4 5]\n",
            " [6 7 8]]\n"
          ]
        }
      ]
    },
    {
      "cell_type": "code",
      "source": [
        "#14. 3x3벡터(행렬) 인덱싱\n",
        "z = np.arange(9).reshape(3,3)\n",
        "z = z[1:3, 0:3]\n",
        "print(z)"
      ],
      "metadata": {
        "colab": {
          "base_uri": "https://localhost:8080/"
        },
        "id": "WdYQQfpGMq1v",
        "outputId": "34347248-579e-49e6-8060-58a9aa9b503a"
      },
      "execution_count": 25,
      "outputs": [
        {
          "output_type": "stream",
          "name": "stdout",
          "text": [
            "[[3 4 5]\n",
            " [6 7 8]]\n"
          ]
        }
      ]
    },
    {
      "cell_type": "code",
      "source": [
        "#15. 3x3벡터(행렬) 인덱싱\n",
        "z = np.arange(9).reshape(3,3)\n",
        "z = z[:2, 1:]\n",
        "print(z)"
      ],
      "metadata": {
        "colab": {
          "base_uri": "https://localhost:8080/"
        },
        "id": "PrTBWxSTMpdf",
        "outputId": "3c958120-32e3-4f7a-86b5-fdea0f9cdec7"
      },
      "execution_count": 26,
      "outputs": [
        {
          "output_type": "stream",
          "name": "stdout",
          "text": [
            "[[1 2]\n",
            " [4 5]]\n"
          ]
        }
      ]
    },
    {
      "cell_type": "code",
      "source": [
        "#16. 3x3벡터(행렬) 인덱싱\n",
        "z = np.arange(9).reshape(3,3)\n",
        "z = z[[0,1], 2]\n",
        "print(z)"
      ],
      "metadata": {
        "colab": {
          "base_uri": "https://localhost:8080/"
        },
        "id": "2kCyHybTNDKP",
        "outputId": "d45c6f78-ba14-4807-f20a-b8f75a98d5aa"
      },
      "execution_count": 27,
      "outputs": [
        {
          "output_type": "stream",
          "name": "stdout",
          "text": [
            "[2 5]\n"
          ]
        }
      ]
    },
    {
      "cell_type": "code",
      "source": [
        "#17. 3x3벡터(행렬) 인덱싱\n",
        "z = np.arange(9).reshape(3,3)\n",
        "z = z[[0,1], 0:2]\n",
        "print(z)"
      ],
      "metadata": {
        "colab": {
          "base_uri": "https://localhost:8080/"
        },
        "id": "voYzsdVONQUP",
        "outputId": "f29d778b-a085-4177-a5ac-7f7e7d431409"
      },
      "execution_count": 29,
      "outputs": [
        {
          "output_type": "stream",
          "name": "stdout",
          "text": [
            "[[0 1]\n",
            " [3 4]]\n"
          ]
        }
      ]
    },
    {
      "cell_type": "code",
      "source": [
        "#18. 3x3벡터 (행렬) 인덱싱\n",
        "z = np.arange(9).reshape(3,3)\n",
        "z = z[[0, 1]]\n",
        "print(z)"
      ],
      "metadata": {
        "colab": {
          "base_uri": "https://localhost:8080/"
        },
        "id": "6SgX8irlNkyO",
        "outputId": "cb90fcea-dbf3-46b2-c530-c638045eab60"
      },
      "execution_count": 30,
      "outputs": [
        {
          "output_type": "stream",
          "name": "stdout",
          "text": [
            "[[0 1 2]\n",
            " [3 4 5]]\n"
          ]
        }
      ]
    },
    {
      "cell_type": "code",
      "source": [
        "#19. 2x3벡터(행렬) 생성\n",
        "z = np.arange(6).reshape(2,3)\n",
        "print(z)"
      ],
      "metadata": {
        "colab": {
          "base_uri": "https://localhost:8080/"
        },
        "id": "i9EKCEBeNvCu",
        "outputId": "83ddd688-7bba-41e5-d729-11547444dc2f"
      },
      "execution_count": 31,
      "outputs": [
        {
          "output_type": "stream",
          "name": "stdout",
          "text": [
            "[[0 1 2]\n",
            " [3 4 5]]\n"
          ]
        }
      ]
    },
    {
      "cell_type": "code",
      "source": [
        "#20. 2x5벡터(행렬) 생성\n",
        "z = np.arange(10).reshape(2,5)\n",
        "print(z)"
      ],
      "metadata": {
        "colab": {
          "base_uri": "https://localhost:8080/"
        },
        "id": "uzBAJOZNN3o-",
        "outputId": "e828d48f-a186-4391-9944-79d97b22b1dc"
      },
      "execution_count": 32,
      "outputs": [
        {
          "output_type": "stream",
          "name": "stdout",
          "text": [
            "[[0 1 2 3 4]\n",
            " [5 6 7 8 9]]\n"
          ]
        }
      ]
    },
    {
      "cell_type": "code",
      "source": [
        "#21. 5x2벡터(행렬) 생성\n",
        "z = np.arange(10).reshape(5,2)\n",
        "print(z)"
      ],
      "metadata": {
        "colab": {
          "base_uri": "https://localhost:8080/"
        },
        "id": "G6THEynnOBKP",
        "outputId": "53292d36-6e40-49f8-f9d4-c3c2fb31d4a4"
      },
      "execution_count": 33,
      "outputs": [
        {
          "output_type": "stream",
          "name": "stdout",
          "text": [
            "[[0 1]\n",
            " [2 3]\n",
            " [4 5]\n",
            " [6 7]\n",
            " [8 9]]\n"
          ]
        }
      ]
    },
    {
      "cell_type": "code",
      "source": [
        "#22. 자동x5 벡터(행렬)생성\n",
        "z = np.arange(10).reshape(-1, 5)\n",
        "print(z)"
      ],
      "metadata": {
        "colab": {
          "base_uri": "https://localhost:8080/"
        },
        "id": "jR9h4UBMPG4O",
        "outputId": "c7e58afa-f4c3-4e34-d85a-d9ea091d8a52"
      },
      "execution_count": 34,
      "outputs": [
        {
          "output_type": "stream",
          "name": "stdout",
          "text": [
            "[[0 1 2 3 4]\n",
            " [5 6 7 8 9]]\n"
          ]
        }
      ]
    },
    {
      "cell_type": "code",
      "source": [
        "#23. 5x자동 벡터(행렬) 생성\n",
        "z = np.arange(10).reshape(5, -1)\n",
        "print(z)"
      ],
      "metadata": {
        "colab": {
          "base_uri": "https://localhost:8080/"
        },
        "id": "pmLSPr1zPRfu",
        "outputId": "5b081070-8f54-48ab-c8e8-53eeb1f65754"
      },
      "execution_count": 35,
      "outputs": [
        {
          "output_type": "stream",
          "name": "stdout",
          "text": [
            "[[0 1]\n",
            " [2 3]\n",
            " [4 5]\n",
            " [6 7]\n",
            " [8 9]]\n"
          ]
        }
      ]
    },
    {
      "cell_type": "code",
      "source": [
        "#24. 0이 아닌 값들의 index 변환\n",
        "nz = np.nonzero([1,2,0,0,4,0])\n",
        "print(nz)"
      ],
      "metadata": {
        "colab": {
          "base_uri": "https://localhost:8080/"
        },
        "id": "26cKCbz0PpX_",
        "outputId": "d8a10e50-526b-44e3-b26e-04de784ed9e1"
      },
      "execution_count": 36,
      "outputs": [
        {
          "output_type": "stream",
          "name": "stdout",
          "text": [
            "(array([0, 1, 4]),)\n"
          ]
        }
      ]
    },
    {
      "cell_type": "code",
      "source": [
        "#25. 2차 단위행렬\n",
        "z = np.eye(2)\n",
        "print(z)"
      ],
      "metadata": {
        "colab": {
          "base_uri": "https://localhost:8080/"
        },
        "id": "cmN8ZGCoP0Nt",
        "outputId": "16b0900b-5b64-4b07-d593-7baa6ddfda0c"
      },
      "execution_count": 37,
      "outputs": [
        {
          "output_type": "stream",
          "name": "stdout",
          "text": [
            "[[1. 0.]\n",
            " [0. 1.]]\n"
          ]
        }
      ]
    },
    {
      "cell_type": "code",
      "source": [
        "#26. 3차 단위행렬\n",
        "z = np.eye(3)\n",
        "print(z)"
      ],
      "metadata": {
        "colab": {
          "base_uri": "https://localhost:8080/"
        },
        "id": "F-JF0b7SP6aG",
        "outputId": "bf357a24-8145-45cc-8da5-72683ad348c0"
      },
      "execution_count": 38,
      "outputs": [
        {
          "output_type": "stream",
          "name": "stdout",
          "text": [
            "[[1. 0. 0.]\n",
            " [0. 1. 0.]\n",
            " [0. 0. 1.]]\n"
          ]
        }
      ]
    },
    {
      "cell_type": "code",
      "source": [
        "#27. 3x3x3 벡터생성\n",
        "z = np.random.random((3,3,3))\n",
        "print(z)"
      ],
      "metadata": {
        "colab": {
          "base_uri": "https://localhost:8080/"
        },
        "id": "UwLyczFQQAbu",
        "outputId": "657875d2-8f63-47f4-855f-4c1bf4d4dfd0"
      },
      "execution_count": 39,
      "outputs": [
        {
          "output_type": "stream",
          "name": "stdout",
          "text": [
            "[[[0.27290618 0.05145023 0.06098897]\n",
            "  [0.1148582  0.13437503 0.07360904]\n",
            "  [0.08848406 0.00927384 0.17207509]]\n",
            "\n",
            " [[0.0484087  0.60893569 0.10141324]\n",
            "  [0.4659555  0.58936907 0.02433308]\n",
            "  [0.74638706 0.98461478 0.73433227]]\n",
            "\n",
            " [[0.78222992 0.63854702 0.12458039]\n",
            "  [0.07667564 0.20005869 0.91091285]\n",
            "  [0.25234779 0.29209688 0.92813615]]]\n"
          ]
        }
      ]
    },
    {
      "cell_type": "code",
      "source": [
        "#28. 10x10 벡터에서 최대, 최소값\n",
        "z = np.random.random((10,10))\n",
        "z_min, z_max = z.min(), z.max()\n",
        "print(z_min, z_max)"
      ],
      "metadata": {
        "colab": {
          "base_uri": "https://localhost:8080/"
        },
        "id": "QQOYKjdRQINN",
        "outputId": "b93d08aa-e920-427a-e109-ceca2941aaf0"
      },
      "execution_count": 42,
      "outputs": [
        {
          "output_type": "stream",
          "name": "stdout",
          "text": [
            "0.025080389942107706 0.9988362624051396\n"
          ]
        }
      ]
    },
    {
      "cell_type": "code",
      "source": [
        "#29. 벡터 평균\n",
        "z = np.random.random(30)\n",
        "m = z.mean()\n",
        "print(m)"
      ],
      "metadata": {
        "colab": {
          "base_uri": "https://localhost:8080/"
        },
        "id": "noflIpoeQc3d",
        "outputId": "63866f76-88d5-44a9-c0c9-b588280a81a6"
      },
      "execution_count": 43,
      "outputs": [
        {
          "output_type": "stream",
          "name": "stdout",
          "text": [
            "0.49119506410808295\n"
          ]
        }
      ]
    },
    {
      "cell_type": "code",
      "source": [
        "#30. 10x10벡터(행렬)에서 border가 1인 벡터\n",
        "z = np.ones((10, 10))\n",
        "z[1:-1, 1:-1] = 0\n",
        "print(z)"
      ],
      "metadata": {
        "colab": {
          "base_uri": "https://localhost:8080/"
        },
        "id": "SyxZzLdLQbjt",
        "outputId": "6fd29752-3c4a-4e1e-f2b1-86ac85d896a6"
      },
      "execution_count": 44,
      "outputs": [
        {
          "output_type": "stream",
          "name": "stdout",
          "text": [
            "[[1. 1. 1. 1. 1. 1. 1. 1. 1. 1.]\n",
            " [1. 0. 0. 0. 0. 0. 0. 0. 0. 1.]\n",
            " [1. 0. 0. 0. 0. 0. 0. 0. 0. 1.]\n",
            " [1. 0. 0. 0. 0. 0. 0. 0. 0. 1.]\n",
            " [1. 0. 0. 0. 0. 0. 0. 0. 0. 1.]\n",
            " [1. 0. 0. 0. 0. 0. 0. 0. 0. 1.]\n",
            " [1. 0. 0. 0. 0. 0. 0. 0. 0. 1.]\n",
            " [1. 0. 0. 0. 0. 0. 0. 0. 0. 1.]\n",
            " [1. 0. 0. 0. 0. 0. 0. 0. 0. 1.]\n",
            " [1. 1. 1. 1. 1. 1. 1. 1. 1. 1.]]\n"
          ]
        }
      ]
    },
    {
      "cell_type": "code",
      "source": [
        "#31. 10x10벡터(행렬)에서 0,1 체크무늬 벡터\n",
        "z = np.zeros((10,10))\n",
        "z[1::2, ::2] = 1\n",
        "z[::2, 1::2] = 1\n",
        "print(z)"
      ],
      "metadata": {
        "colab": {
          "base_uri": "https://localhost:8080/"
        },
        "id": "k1UOsXdxQYHt",
        "outputId": "f4f782f9-2b66-4402-bba9-96c6168d2df8"
      },
      "execution_count": 45,
      "outputs": [
        {
          "output_type": "stream",
          "name": "stdout",
          "text": [
            "[[0. 1. 0. 1. 0. 1. 0. 1. 0. 1.]\n",
            " [1. 0. 1. 0. 1. 0. 1. 0. 1. 0.]\n",
            " [0. 1. 0. 1. 0. 1. 0. 1. 0. 1.]\n",
            " [1. 0. 1. 0. 1. 0. 1. 0. 1. 0.]\n",
            " [0. 1. 0. 1. 0. 1. 0. 1. 0. 1.]\n",
            " [1. 0. 1. 0. 1. 0. 1. 0. 1. 0.]\n",
            " [0. 1. 0. 1. 0. 1. 0. 1. 0. 1.]\n",
            " [1. 0. 1. 0. 1. 0. 1. 0. 1. 0.]\n",
            " [0. 1. 0. 1. 0. 1. 0. 1. 0. 1.]\n",
            " [1. 0. 1. 0. 1. 0. 1. 0. 1. 0.]]\n"
          ]
        }
      ]
    }
  ]
}