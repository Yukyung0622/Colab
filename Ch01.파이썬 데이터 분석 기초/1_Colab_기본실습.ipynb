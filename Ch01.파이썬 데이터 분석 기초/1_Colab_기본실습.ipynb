{
  "nbformat": 4,
  "nbformat_minor": 0,
  "metadata": {
    "colab": {
      "name": "1.Colab 기본실습.ipynb",
      "provenance": [],
      "collapsed_sections": [],
      "authorship_tag": "ABX9TyN+dBCoI2mQgLXxpQ5mlnnH",
      "include_colab_link": true
    },
    "kernelspec": {
      "name": "python3",
      "display_name": "Python 3"
    },
    "language_info": {
      "name": "python"
    }
  },
  "cells": [
    {
      "cell_type": "markdown",
      "metadata": {
        "id": "view-in-github",
        "colab_type": "text"
      },
      "source": [
        "<a href=\"https://colab.research.google.com/github/Yukyung0622/Colab/blob/master/Ch01.%ED%8C%8C%EC%9D%B4%EC%8D%AC%20%EB%8D%B0%EC%9D%B4%ED%84%B0%20%EB%B6%84%EC%84%9D%20%EA%B8%B0%EC%B4%88/1_Colab_%EA%B8%B0%EB%B3%B8%EC%8B%A4%EC%8A%B5.ipynb\" target=\"_parent\"><img src=\"https://colab.research.google.com/assets/colab-badge.svg\" alt=\"Open In Colab\"/></a>"
      ]
    },
    {
      "cell_type": "code",
      "execution_count": 2,
      "metadata": {
        "colab": {
          "base_uri": "https://localhost:8080/",
          "height": 35
        },
        "id": "_K_yVM9wRjc0",
        "outputId": "36b192fd-0535-42a0-c577-07aeeb74a9ad"
      },
      "outputs": [
        {
          "output_type": "execute_result",
          "data": {
            "text/plain": [
              "'\\n날짜 : 2022/04/25\\n이름 : 김유경\\n내용 : 파이썬 데이터 과학 Colab 분석환경 실습\\n'"
            ],
            "application/vnd.google.colaboratory.intrinsic+json": {
              "type": "string"
            }
          },
          "metadata": {},
          "execution_count": 2
        }
      ],
      "source": [
        "\"\"\"\n",
        "날짜 : 2022/04/25\n",
        "이름 : 김유경\n",
        "내용 : 파이썬 데이터 과학 Colab 분석환경 실습\n",
        "\"\"\""
      ]
    },
    {
      "cell_type": "code",
      "source": [
        "#출력 테스트\n",
        "print('Hello World!')\n",
        "print('Hello Colab!')"
      ],
      "metadata": {
        "colab": {
          "base_uri": "https://localhost:8080/"
        },
        "id": "W3lFP2tkSuNS",
        "outputId": "a5f38ae9-51a1-4a55-ca07-c96a3deaa1e3"
      },
      "execution_count": 5,
      "outputs": [
        {
          "output_type": "stream",
          "name": "stdout",
          "text": [
            "Hello World!\n",
            "Hello Colab!\n"
          ]
        }
      ]
    },
    {
      "cell_type": "code",
      "source": [
        "#변수\n",
        "num1 = 1\n",
        "num2 = 2\n",
        "num3 = num1+num2"
      ],
      "metadata": {
        "id": "vPM-m2AeTEOh"
      },
      "execution_count": 6,
      "outputs": []
    },
    {
      "cell_type": "code",
      "source": [
        "num3"
      ],
      "metadata": {
        "colab": {
          "base_uri": "https://localhost:8080/"
        },
        "id": "Pi2PIVjTTOeK",
        "outputId": "483a5d14-fc7c-4139-f40e-fe02bb59ef10"
      },
      "execution_count": 7,
      "outputs": [
        {
          "output_type": "execute_result",
          "data": {
            "text/plain": [
              "3"
            ]
          },
          "metadata": {},
          "execution_count": 7
        }
      ]
    },
    {
      "cell_type": "code",
      "source": [
        "#반복문\n",
        "for i in range(10):\n",
        "  print(i, end=', ');"
      ],
      "metadata": {
        "colab": {
          "base_uri": "https://localhost:8080/"
        },
        "id": "nZwDUSXNTRV6",
        "outputId": "788d1be1-5cbd-452d-d377-2856a669167f"
      },
      "execution_count": 9,
      "outputs": [
        {
          "output_type": "stream",
          "name": "stdout",
          "text": [
            "0, 1, 2, 3, 4, 5, 6, 7, 8, 9, "
          ]
        }
      ]
    },
    {
      "cell_type": "code",
      "source": [
        "#조건문\n",
        "var1 =1\n",
        "var2 =2\n",
        "\n",
        "if var1 > var2:\n",
        "  print('var1은 var2보다 크다.')\n",
        "else:\n",
        "  print('var1은 var2보다 작다.')"
      ],
      "metadata": {
        "colab": {
          "base_uri": "https://localhost:8080/"
        },
        "id": "UJI_coyyTiSL",
        "outputId": "8dd5f1a8-9b04-4547-e2ee-1bede66fc616"
      },
      "execution_count": 11,
      "outputs": [
        {
          "output_type": "stream",
          "name": "stdout",
          "text": [
            "var1은 var2보다 작다.\n"
          ]
        }
      ]
    },
    {
      "cell_type": "code",
      "source": [
        "# 함수\n",
        "def sum(arr):\n",
        "  tot = 0\n",
        "  for k in arr:\n",
        "    tot += k\n",
        "\n",
        "  return tot"
      ],
      "metadata": {
        "id": "5ny1spjvT27y"
      },
      "execution_count": 23,
      "outputs": []
    },
    {
      "cell_type": "code",
      "source": [
        "sum([1,2,3,4,5,6,7,8,9,10])"
      ],
      "metadata": {
        "colab": {
          "base_uri": "https://localhost:8080/"
        },
        "id": "zJtciK6YUBSw",
        "outputId": "0a5e640b-6aa4-4530-b5f7-660663694dfd"
      },
      "execution_count": 24,
      "outputs": [
        {
          "output_type": "execute_result",
          "data": {
            "text/plain": [
              "55"
            ]
          },
          "metadata": {},
          "execution_count": 24
        }
      ]
    },
    {
      "cell_type": "code",
      "source": [
        ""
      ],
      "metadata": {
        "id": "APvH_W-mUG-p"
      },
      "execution_count": null,
      "outputs": []
    }
  ]
}