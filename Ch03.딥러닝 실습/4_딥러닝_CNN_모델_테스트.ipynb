{
  "nbformat": 4,
  "nbformat_minor": 0,
  "metadata": {
    "colab": {
      "name": "4.딥러닝 CNN 모델 테스트.ipynb",
      "provenance": [],
      "collapsed_sections": [],
      "mount_file_id": "1U59fci5IORV917wt5natlV1RH2QCdd2f",
      "authorship_tag": "ABX9TyM9+5hUlzJtyFRVBgelM9yf",
      "include_colab_link": true
    },
    "kernelspec": {
      "name": "python3",
      "display_name": "Python 3"
    },
    "language_info": {
      "name": "python"
    }
  },
  "cells": [
    {
      "cell_type": "markdown",
      "metadata": {
        "id": "view-in-github",
        "colab_type": "text"
      },
      "source": [
        "<a href=\"https://colab.research.google.com/github/Yukyung0622/Colab/blob/master/Ch03.%EB%94%A5%EB%9F%AC%EB%8B%9D%20%EC%8B%A4%EC%8A%B5/4_%EB%94%A5%EB%9F%AC%EB%8B%9D_CNN_%EB%AA%A8%EB%8D%B8_%ED%85%8C%EC%8A%A4%ED%8A%B8.ipynb\" target=\"_parent\"><img src=\"https://colab.research.google.com/assets/colab-badge.svg\" alt=\"Open In Colab\"/></a>"
      ]
    },
    {
      "cell_type": "code",
      "execution_count": 2,
      "metadata": {
        "colab": {
          "base_uri": "https://localhost:8080/"
        },
        "id": "FRw22Zmz7LT_",
        "outputId": "6b972708-17fc-47a4-ec8f-cfc698c975a0"
      },
      "outputs": [
        {
          "output_type": "execute_result",
          "data": {
            "text/plain": [
              "<module 'tensorflow._api.v2.version' from '/usr/local/lib/python3.7/dist-packages/tensorflow/_api/v2/version/__init__.py'>"
            ]
          },
          "metadata": {},
          "execution_count": 2
        }
      ],
      "source": [
        "\"\"\"\n",
        "날짜 : 2022/05/10\n",
        "이름 : 김유경\n",
        "내용 : 딥러닝 CNN 모델 테스트하기\n",
        "\"\"\"\n",
        "\n",
        "import matplotlib.pyplot as plt\n",
        "import numpy as np\n",
        "import tensorflow as tf\n",
        "from tensorflow.keras.datasets.cifar10 import load_data\n",
        "from tensorflow.keras.utils import to_categorical\n",
        "from tensorflow.keras.models import load_model\n",
        "from keras.preprocessing.image import load_img, img_to_array\n",
        "from PIL import Image\n",
        "tf.version"
      ]
    },
    {
      "cell_type": "code",
      "source": [
        "#데이터 불러오기\n",
        "(cifar_train_data, cifar_train_label), (cifar_test_data, cifar_test_label) = load_data()"
      ],
      "metadata": {
        "colab": {
          "base_uri": "https://localhost:8080/"
        },
        "id": "fq3tkHqt8XKK",
        "outputId": "8038701b-0994-4333-e0be-7ac50bbb20dc"
      },
      "execution_count": 3,
      "outputs": [
        {
          "output_type": "stream",
          "name": "stdout",
          "text": [
            "Downloading data from https://www.cs.toronto.edu/~kriz/cifar-10-python.tar.gz\n",
            "170500096/170498071 [==============================] - 5s 0us/step\n",
            "170508288/170498071 [==============================] - 5s 0us/step\n"
          ]
        }
      ]
    },
    {
      "cell_type": "code",
      "source": [
        "#모델학습을 위한 데이터 전처리(정규화)\n",
        "cifar_train_data2 = cifar_train_data / 255\n",
        "cifar_test_data2 = cifar_test_data / 255"
      ],
      "metadata": {
        "id": "TesMaaXPB8no"
      },
      "execution_count": 4,
      "outputs": []
    },
    {
      "cell_type": "code",
      "source": [
        "#데이터 라벨을 범주형(one-hot encoding)으로 변환\n",
        "cifar_train_label2 = to_categorical(cifar_train_label)\n",
        "cifar_test_label2 = to_categorical(cifar_test_label)\n",
        "cifar_train_label2[1]"
      ],
      "metadata": {
        "colab": {
          "base_uri": "https://localhost:8080/"
        },
        "id": "4fhl1GwAB-sN",
        "outputId": "6159b39f-e38d-46a4-f4e2-455c9999a35d"
      },
      "execution_count": 5,
      "outputs": [
        {
          "output_type": "execute_result",
          "data": {
            "text/plain": [
              "array([0., 0., 0., 0., 0., 0., 0., 0., 0., 1.], dtype=float32)"
            ]
          },
          "metadata": {},
          "execution_count": 5
        }
      ]
    },
    {
      "cell_type": "code",
      "source": [
        "#외부 학습모델 불러오기\n",
        "model = load_model('/content/drive/MyDrive/파이썬 데이터 과학 실습/file/cifar_model.h5')\n",
        "model.summary()"
      ],
      "metadata": {
        "colab": {
          "base_uri": "https://localhost:8080/"
        },
        "id": "3VKNTm8HCAlG",
        "outputId": "b44b74a2-e1ab-4a09-f3dc-1de8c99dc212"
      },
      "execution_count": 6,
      "outputs": [
        {
          "output_type": "stream",
          "name": "stdout",
          "text": [
            "Model: \"sequential\"\n",
            "_________________________________________________________________\n",
            " Layer (type)                Output Shape              Param #   \n",
            "=================================================================\n",
            " conv2d (Conv2D)             (None, 32, 32, 32)        896       \n",
            "                                                                 \n",
            " conv2d_1 (Conv2D)           (None, 32, 32, 32)        9248      \n",
            "                                                                 \n",
            " max_pooling2d (MaxPooling2D  (None, 16, 16, 32)       0         \n",
            " )                                                               \n",
            "                                                                 \n",
            " dropout (Dropout)           (None, 16, 16, 32)        0         \n",
            "                                                                 \n",
            " conv2d_2 (Conv2D)           (None, 16, 16, 64)        18496     \n",
            "                                                                 \n",
            " conv2d_3 (Conv2D)           (None, 16, 16, 64)        36928     \n",
            "                                                                 \n",
            " max_pooling2d_1 (MaxPooling  (None, 8, 8, 64)         0         \n",
            " 2D)                                                             \n",
            "                                                                 \n",
            " dropout_1 (Dropout)         (None, 8, 8, 64)          0         \n",
            "                                                                 \n",
            " conv2d_4 (Conv2D)           (None, 8, 8, 128)         73856     \n",
            "                                                                 \n",
            " conv2d_5 (Conv2D)           (None, 8, 8, 128)         147584    \n",
            "                                                                 \n",
            " max_pooling2d_2 (MaxPooling  (None, 4, 4, 128)        0         \n",
            " 2D)                                                             \n",
            "                                                                 \n",
            " dropout_2 (Dropout)         (None, 4, 4, 128)         0         \n",
            "                                                                 \n",
            " flatten (Flatten)           (None, 2048)              0         \n",
            "                                                                 \n",
            " dense (Dense)               (None, 256)               524544    \n",
            "                                                                 \n",
            " dense_1 (Dense)             (None, 10)                2570      \n",
            "                                                                 \n",
            "=================================================================\n",
            "Total params: 814,122\n",
            "Trainable params: 814,122\n",
            "Non-trainable params: 0\n",
            "_________________________________________________________________\n"
          ]
        }
      ]
    },
    {
      "cell_type": "code",
      "source": [
        "#모델 테스트\n",
        "result = model.evaluate(cifar_test_data2, cifar_test_label2)\n",
        "result"
      ],
      "metadata": {
        "colab": {
          "base_uri": "https://localhost:8080/"
        },
        "id": "8xo-G8cJCFMV",
        "outputId": "67abba77-4203-4849-916f-db1823a73578"
      },
      "execution_count": 7,
      "outputs": [
        {
          "output_type": "stream",
          "name": "stdout",
          "text": [
            "313/313 [==============================] - 17s 53ms/step - loss: 0.7132 - acc: 0.7649\n"
          ]
        },
        {
          "output_type": "execute_result",
          "data": {
            "text/plain": [
              "[0.7131654024124146, 0.7649000287055969]"
            ]
          },
          "metadata": {},
          "execution_count": 7
        }
      ]
    },
    {
      "cell_type": "code",
      "source": [
        "###############################################################\n",
        "#이미지 로드 함수 정의\n",
        "def load_image(filename):\n",
        "\t# load the image\n",
        "\timg = load_img(filename, target_size=(32, 32))\n",
        "\t# convert to array\n",
        "\timg = img_to_array(img)\n",
        "\t# reshape into a single sample with 3 channels\n",
        "\timg = img.reshape(1, 32, 32, 3)\n",
        "\t# prepare pixel data\n",
        "\timg = img.astype('float32')\n",
        "\timg = img / 255.0\n",
        "\treturn img"
      ],
      "metadata": {
        "id": "-dxsOjsXCI8n"
      },
      "execution_count": 8,
      "outputs": []
    },
    {
      "cell_type": "code",
      "source": [
        "img = load_image('/content/drive/MyDrive/파이썬 데이터 과학 실습/file/32.jpg')\n",
        "img"
      ],
      "metadata": {
        "colab": {
          "base_uri": "https://localhost:8080/"
        },
        "id": "GA2G7ODOCLZG",
        "outputId": "6ee626b2-8ba0-4ca4-f066-f7e3b1f7b88a"
      },
      "execution_count": 9,
      "outputs": [
        {
          "output_type": "execute_result",
          "data": {
            "text/plain": [
              "array([[[[0.22352941, 0.14509805, 0.10196079],\n",
              "         [0.22745098, 0.14901961, 0.10588235],\n",
              "         [0.20784314, 0.13725491, 0.09803922],\n",
              "         ...,\n",
              "         [0.2509804 , 0.16862746, 0.20392157],\n",
              "         [0.22352941, 0.2       , 0.2       ],\n",
              "         [0.20784314, 0.23529412, 0.20784314]],\n",
              "\n",
              "        [[0.16862746, 0.10196079, 0.07058824],\n",
              "         [0.19215687, 0.1254902 , 0.09803922],\n",
              "         [0.1764706 , 0.11764706, 0.09019608],\n",
              "         ...,\n",
              "         [0.39215687, 0.32941177, 0.34117648],\n",
              "         [0.3647059 , 0.34901962, 0.3372549 ],\n",
              "         [0.3372549 , 0.35686275, 0.32941177]],\n",
              "\n",
              "        [[0.14901961, 0.10588235, 0.09803922],\n",
              "         [0.14117648, 0.09803922, 0.09019608],\n",
              "         [0.14509805, 0.10196079, 0.09411765],\n",
              "         ...,\n",
              "         [0.3647059 , 0.3254902 , 0.32156864],\n",
              "         [0.38039216, 0.3647059 , 0.3529412 ],\n",
              "         [0.43137255, 0.43529412, 0.41568628]],\n",
              "\n",
              "        ...,\n",
              "\n",
              "        [[0.44705883, 0.38431373, 0.3882353 ],\n",
              "         [0.41568628, 0.3529412 , 0.3647059 ],\n",
              "         [0.47058824, 0.40392157, 0.43529412],\n",
              "         ...,\n",
              "         [0.3764706 , 0.32941177, 0.3372549 ],\n",
              "         [0.31764707, 0.27058825, 0.27058825],\n",
              "         [0.30980393, 0.2627451 , 0.2627451 ]],\n",
              "\n",
              "        [[0.43529412, 0.4       , 0.37254903],\n",
              "         [0.45490196, 0.4117647 , 0.40392157],\n",
              "         [0.45882353, 0.4117647 , 0.41960785],\n",
              "         ...,\n",
              "         [0.32156864, 0.27450982, 0.28235295],\n",
              "         [0.37254903, 0.3254902 , 0.33333334],\n",
              "         [0.36078432, 0.3137255 , 0.32156864]],\n",
              "\n",
              "        [[0.40784314, 0.39215687, 0.34509805],\n",
              "         [0.46666667, 0.4392157 , 0.40784314],\n",
              "         [0.44313726, 0.40392157, 0.4       ],\n",
              "         ...,\n",
              "         [0.3764706 , 0.32941177, 0.34509805],\n",
              "         [0.34901962, 0.3019608 , 0.30980393],\n",
              "         [0.35686275, 0.30980393, 0.31764707]]]], dtype=float32)"
            ]
          },
          "metadata": {},
          "execution_count": 9
        }
      ]
    },
    {
      "cell_type": "code",
      "source": [
        "#이미지 모델 테스트\n",
        "result = model.predict(img)\n",
        "result.round()"
      ],
      "metadata": {
        "colab": {
          "base_uri": "https://localhost:8080/"
        },
        "id": "ZrVJS4BDCPxJ",
        "outputId": "18008327-eea4-4870-c4bc-9b35b68f7786"
      },
      "execution_count": 10,
      "outputs": [
        {
          "output_type": "execute_result",
          "data": {
            "text/plain": [
              "array([[0., 0., 0., 0., 0., 0., 0., 0., 0., 0.]], dtype=float32)"
            ]
          },
          "metadata": {},
          "execution_count": 10
        }
      ]
    }
  ]
}