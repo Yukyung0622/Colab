{
  "nbformat": 4,
  "nbformat_minor": 0,
  "metadata": {
    "colab": {
      "name": "2.선형회귀분석.ipynb",
      "provenance": [],
      "collapsed_sections": [],
      "authorship_tag": "ABX9TyPfb/3H7UxkMkLxPiSYRSRH",
      "include_colab_link": true
    },
    "kernelspec": {
      "name": "python3",
      "display_name": "Python 3"
    },
    "language_info": {
      "name": "python"
    }
  },
  "cells": [
    {
      "cell_type": "markdown",
      "metadata": {
        "id": "view-in-github",
        "colab_type": "text"
      },
      "source": [
        "<a href=\"https://colab.research.google.com/github/Yukyung0622/Colab/blob/master/Ch02.%EB%A8%B8%EC%8B%A0%EB%9F%AC%EB%8B%9D%20%EC%8B%A4%EC%8A%B5/2_%EC%84%A0%ED%98%95%ED%9A%8C%EA%B7%80%EB%B6%84%EC%84%9D.ipynb\" target=\"_parent\"><img src=\"https://colab.research.google.com/assets/colab-badge.svg\" alt=\"Open In Colab\"/></a>"
      ]
    },
    {
      "cell_type": "code",
      "execution_count": 11,
      "metadata": {
        "id": "yunrIC4mgaiP"
      },
      "outputs": [],
      "source": [
        "\"\"\"\n",
        "날짜 : 2022/05/02\n",
        "이름 : 김유경\n",
        "내용 : 선형회귀분석 실습\n",
        "\"\"\"\n",
        "\n",
        "from sklearn.linear_model  import LinearRegression\n",
        "from scipy import stats"
      ]
    },
    {
      "cell_type": "code",
      "source": [
        "x_data = [170, 155, 150, 175, 165]\n",
        "y_data = [65, 50, 45, 70, 55]\n",
        "\n",
        "#기울기, 절편 확인\n",
        "slope, intercept, r, p, std = stats.linregress(x_data, y_data)\n",
        "print('기울기 : ', slope)\n",
        "print('절편 : ', intercept)"
      ],
      "metadata": {
        "colab": {
          "base_uri": "https://localhost:8080/"
        },
        "id": "nNFnOaFdgvuo",
        "outputId": "0aba1941-e6ed-496c-d637-d42eff1605d8"
      },
      "execution_count": 12,
      "outputs": [
        {
          "output_type": "stream",
          "name": "stdout",
          "text": [
            "기울기 :  0.9767441860465116\n",
            "절편 :  -102.20930232558138\n"
          ]
        }
      ]
    },
    {
      "cell_type": "code",
      "source": [
        "#학습모델 정의\n",
        "def model(x):\n",
        "  y = 0.9767441860465116 * x -102.20930232558138\n",
        "  return y"
      ],
      "metadata": {
        "id": "ITdTIB46hg9-"
      },
      "execution_count": 13,
      "outputs": []
    },
    {
      "cell_type": "code",
      "source": [
        "#테스트하기\n",
        "test_data = [160, 172, 178, 154, 186]\n",
        "\n",
        "for i in test_data:\n",
        "  y = model(i)\n",
        "  print (y, end = ' ')"
      ],
      "metadata": {
        "colab": {
          "base_uri": "https://localhost:8080/"
        },
        "id": "_rnuI-ynhwH3",
        "outputId": "670fba7f-2b4f-4e98-8f62-1a6cca322f32"
      },
      "execution_count": 15,
      "outputs": [
        {
          "output_type": "stream",
          "name": "stdout",
          "text": [
            "54.06976744186048 65.79069767441862 71.6511627906977 48.209302325581405 79.46511627906978 "
          ]
        }
      ]
    },
    {
      "cell_type": "code",
      "source": [
        "#선형회귀 알고리즘을 이용한 머신러닝\n",
        "\n",
        "#학습데이터, 라벨 준비\n",
        "train_data = [[170], [155], [150], [175], [165]]\n",
        "train_label = [65, 50, 45, 70, 55]"
      ],
      "metadata": {
        "id": "2EKZkKg-ifJ2"
      },
      "execution_count": 16,
      "outputs": []
    },
    {
      "cell_type": "code",
      "source": [
        "#학습하기\n",
        "model = LinearRegression()\n",
        "model.fit(train_data, train_label)"
      ],
      "metadata": {
        "colab": {
          "base_uri": "https://localhost:8080/"
        },
        "id": "A_80elihi9SH",
        "outputId": "98962d7a-535c-4f43-be20-34af2b6d5723"
      },
      "execution_count": 17,
      "outputs": [
        {
          "output_type": "execute_result",
          "data": {
            "text/plain": [
              "LinearRegression()"
            ]
          },
          "metadata": {},
          "execution_count": 17
        }
      ]
    },
    {
      "cell_type": "code",
      "source": [
        "#테스트하기\n",
        "test_data = [[160], [172], [178], [154], [186]]\n",
        "result = model.predict(test_data)\n",
        "result"
      ],
      "metadata": {
        "colab": {
          "base_uri": "https://localhost:8080/"
        },
        "id": "MIavumfKjVHN",
        "outputId": "48c436bd-bdce-4202-a1b4-8c8e0a702dda"
      },
      "execution_count": 18,
      "outputs": [
        {
          "output_type": "execute_result",
          "data": {
            "text/plain": [
              "array([54.06976744, 65.79069767, 71.65116279, 48.20930233, 79.46511628])"
            ]
          },
          "metadata": {},
          "execution_count": 18
        }
      ]
    }
  ]
}